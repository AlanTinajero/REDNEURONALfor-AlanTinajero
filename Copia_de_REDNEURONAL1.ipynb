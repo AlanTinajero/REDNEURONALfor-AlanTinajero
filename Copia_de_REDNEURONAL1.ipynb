{
  "nbformat": 4,
  "nbformat_minor": 0,
  "metadata": {
    "colab": {
      "provenance": []
    },
    "kernelspec": {
      "name": "python3",
      "display_name": "Python 3"
    },
    "language_info": {
      "name": "python"
    }
  },
  "cells": [
    {
      "cell_type": "code",
      "execution_count": null,
      "metadata": {
        "id": "4SEYrnyXXSXg"
      },
      "outputs": [],
      "source": [
        "import tensorflow as tf\n",
        "import numpy as np\n",
        "from tensorflow import keras"
      ]
    },
    {
      "cell_type": "code",
      "source": [
        "model = tf.keras.Sequential([keras.layers.Dense(units=1, input_shape=[1])])"
      ],
      "metadata": {
        "id": "pnxCsnaiX_lb"
      },
      "execution_count": null,
      "outputs": []
    },
    {
      "cell_type": "code",
      "source": [
        "model.compile(optimizer='sgd', loss='mean_squared_error')"
      ],
      "metadata": {
        "id": "FptraJlOYKu0"
      },
      "execution_count": null,
      "outputs": []
    },
    {
      "cell_type": "code",
      "source": [
        "xs = np.array([-1.0, 0.0, 1.0, 2.0, 3.0, 4.0], dtype=float)\n",
        "ys = np.array([-2.0, 1.0, 4.0, 7.0, 10.0, 13.0], dtype=float)"
      ],
      "metadata": {
        "id": "7vCAyqlLYSeG"
      },
      "execution_count": null,
      "outputs": []
    },
    {
      "cell_type": "code",
      "source": [
        "model.fit(xs, ys, epochs=50)"
      ],
      "metadata": {
        "colab": {
          "base_uri": "https://localhost:8080/"
        },
        "id": "ZdFz78l3Yn8H",
        "outputId": "ad58ca82-60e9-47b7-d022-67abd1476580"
      },
      "execution_count": null,
      "outputs": [
        {
          "output_type": "stream",
          "name": "stdout",
          "text": [
            "Epoch 1/50\n",
            "1/1 [==============================] - 0s 10ms/step - loss: 2.0982e-06\n",
            "Epoch 2/50\n",
            "1/1 [==============================] - 0s 9ms/step - loss: 2.0552e-06\n",
            "Epoch 3/50\n",
            "1/1 [==============================] - 0s 8ms/step - loss: 2.0129e-06\n",
            "Epoch 4/50\n",
            "1/1 [==============================] - 0s 8ms/step - loss: 1.9718e-06\n",
            "Epoch 5/50\n",
            "1/1 [==============================] - 0s 8ms/step - loss: 1.9311e-06\n",
            "Epoch 6/50\n",
            "1/1 [==============================] - 0s 13ms/step - loss: 1.8914e-06\n",
            "Epoch 7/50\n",
            "1/1 [==============================] - 0s 8ms/step - loss: 1.8524e-06\n",
            "Epoch 8/50\n",
            "1/1 [==============================] - 0s 8ms/step - loss: 1.8144e-06\n",
            "Epoch 9/50\n",
            "1/1 [==============================] - 0s 8ms/step - loss: 1.7771e-06\n",
            "Epoch 10/50\n",
            "1/1 [==============================] - 0s 8ms/step - loss: 1.7405e-06\n",
            "Epoch 11/50\n",
            "1/1 [==============================] - 0s 8ms/step - loss: 1.7049e-06\n",
            "Epoch 12/50\n",
            "1/1 [==============================] - 0s 8ms/step - loss: 1.6700e-06\n",
            "Epoch 13/50\n",
            "1/1 [==============================] - 0s 8ms/step - loss: 1.6358e-06\n",
            "Epoch 14/50\n",
            "1/1 [==============================] - 0s 8ms/step - loss: 1.6019e-06\n",
            "Epoch 15/50\n",
            "1/1 [==============================] - 0s 8ms/step - loss: 1.5692e-06\n",
            "Epoch 16/50\n",
            "1/1 [==============================] - 0s 8ms/step - loss: 1.5370e-06\n",
            "Epoch 17/50\n",
            "1/1 [==============================] - 0s 8ms/step - loss: 1.5055e-06\n",
            "Epoch 18/50\n",
            "1/1 [==============================] - 0s 13ms/step - loss: 1.4746e-06\n",
            "Epoch 19/50\n",
            "1/1 [==============================] - 0s 8ms/step - loss: 1.4443e-06\n",
            "Epoch 20/50\n",
            "1/1 [==============================] - 0s 7ms/step - loss: 1.4146e-06\n",
            "Epoch 21/50\n",
            "1/1 [==============================] - 0s 7ms/step - loss: 1.3856e-06\n",
            "Epoch 22/50\n",
            "1/1 [==============================] - 0s 8ms/step - loss: 1.3570e-06\n",
            "Epoch 23/50\n",
            "1/1 [==============================] - 0s 7ms/step - loss: 1.3293e-06\n",
            "Epoch 24/50\n",
            "1/1 [==============================] - 0s 8ms/step - loss: 1.3021e-06\n",
            "Epoch 25/50\n",
            "1/1 [==============================] - 0s 8ms/step - loss: 1.2751e-06\n",
            "Epoch 26/50\n",
            "1/1 [==============================] - 0s 7ms/step - loss: 1.2490e-06\n",
            "Epoch 27/50\n",
            "1/1 [==============================] - 0s 8ms/step - loss: 1.2236e-06\n",
            "Epoch 28/50\n",
            "1/1 [==============================] - 0s 8ms/step - loss: 1.1984e-06\n",
            "Epoch 29/50\n",
            "1/1 [==============================] - 0s 7ms/step - loss: 1.1737e-06\n",
            "Epoch 30/50\n",
            "1/1 [==============================] - 0s 7ms/step - loss: 1.1496e-06\n",
            "Epoch 31/50\n",
            "1/1 [==============================] - 0s 5ms/step - loss: 1.1261e-06\n",
            "Epoch 32/50\n",
            "1/1 [==============================] - 0s 11ms/step - loss: 1.1028e-06\n",
            "Epoch 33/50\n",
            "1/1 [==============================] - 0s 5ms/step - loss: 1.0803e-06\n",
            "Epoch 34/50\n",
            "1/1 [==============================] - 0s 6ms/step - loss: 1.0581e-06\n",
            "Epoch 35/50\n",
            "1/1 [==============================] - 0s 6ms/step - loss: 1.0364e-06\n",
            "Epoch 36/50\n",
            "1/1 [==============================] - 0s 8ms/step - loss: 1.0152e-06\n",
            "Epoch 37/50\n",
            "1/1 [==============================] - 0s 6ms/step - loss: 9.9424e-07\n",
            "Epoch 38/50\n",
            "1/1 [==============================] - 0s 11ms/step - loss: 9.7383e-07\n",
            "Epoch 39/50\n",
            "1/1 [==============================] - 0s 6ms/step - loss: 9.5379e-07\n",
            "Epoch 40/50\n",
            "1/1 [==============================] - 0s 7ms/step - loss: 9.3421e-07\n",
            "Epoch 41/50\n",
            "1/1 [==============================] - 0s 9ms/step - loss: 9.1509e-07\n",
            "Epoch 42/50\n",
            "1/1 [==============================] - 0s 10ms/step - loss: 8.9630e-07\n",
            "Epoch 43/50\n",
            "1/1 [==============================] - 0s 6ms/step - loss: 8.7797e-07\n",
            "Epoch 44/50\n",
            "1/1 [==============================] - 0s 8ms/step - loss: 8.5987e-07\n",
            "Epoch 45/50\n",
            "1/1 [==============================] - 0s 8ms/step - loss: 8.4218e-07\n",
            "Epoch 46/50\n",
            "1/1 [==============================] - 0s 8ms/step - loss: 8.2480e-07\n",
            "Epoch 47/50\n",
            "1/1 [==============================] - 0s 8ms/step - loss: 8.0787e-07\n",
            "Epoch 48/50\n",
            "1/1 [==============================] - 0s 7ms/step - loss: 7.9116e-07\n",
            "Epoch 49/50\n",
            "1/1 [==============================] - 0s 7ms/step - loss: 7.7520e-07\n",
            "Epoch 50/50\n",
            "1/1 [==============================] - 0s 6ms/step - loss: 7.5920e-07\n"
          ]
        },
        {
          "output_type": "execute_result",
          "data": {
            "text/plain": [
              "<keras.callbacks.History at 0x7f34f43046d0>"
            ]
          },
          "metadata": {},
          "execution_count": 6
        }
      ]
    },
    {
      "cell_type": "code",
      "source": [
        "print(model.predict([10.0]))"
      ],
      "metadata": {
        "colab": {
          "base_uri": "https://localhost:8080/"
        },
        "id": "ZTKiM87JY-qW",
        "outputId": "e3114a21-2a4a-4f16-8e60-4c1a6ef2cfda"
      },
      "execution_count": null,
      "outputs": [
        {
          "output_type": "stream",
          "name": "stdout",
          "text": [
            "1/1 [==============================] - 0s 271ms/step\n",
            "[[31.002542]]\n"
          ]
        }
      ]
    }
  ]
}